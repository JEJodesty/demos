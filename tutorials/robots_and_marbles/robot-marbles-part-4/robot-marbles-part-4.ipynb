{
 "cells": [
  {
   "cell_type": "markdown",
   "metadata": {},
   "source": [
    "[![Open In Colab](https://colab.research.google.com/assets/colab-badge.svg)](https://colab.research.google.com/github/cadCAD-org/demos/blob/master/tutorials/robots_and_marbles/robot-marbles-part-4/robot-marbles-part-4.ipynb)\n",
    "\n",
    "# cadCAD Tutorials: The Robot and the Marbles, part 4\n",
    "In parts [1](../robot-marbles-part-1/robot-marbles-part-1.ipynb) and [2](../robot-marbles-part-2/robot-marbles-part-2.ipynb) we introduced the 'language' in which a system must be described in order for it to be interpretable by cadCAD and some of the basic concepts of the library:\n",
    "* State Variables\n",
    "* Timestep\n",
    "* State Update Functions\n",
    "* Partial State Update Blocks\n",
    "* Simulation Configuration Parameters\n",
    "* Policies\n",
    "\n",
    "In [part 3](../robot-marbles-part-3/robot-marbles-part-3.ipynb) we covered how to describe the presence of asynchronous subsystems within the system being modeled in cadCAD.\n",
    "\n",
    "So far, all the examples referred to deterministic systems: no matter how many times you ran one of those simulations, the results would be the same. However, systems are more commonly non-deterministic, and modelling them as deterministic might be an oversimplification sometimes. \n",
    "\n",
    "In this notebook, we'll cover cadCAD's support for modelling non-deterministic systems and Monte Carlo simulations. But first let's copy the base configuration with which we ended Part 3. Here's the description of that system:\n",
    "\n",
    "__The robot and the marbles__  \n",
    "* Picture a box (`box_A`) with ten marbles in it; an empty box (`box_B`) next to the first one; and __two__ robot arms capable of taking a marble from any one of the boxes and dropping it into the other one. \n",
    "* The robots are programmed to take one marble at a time from the box containing the largest number of marbles and drop it in the other box. They repeat that process until the boxes contain an equal number of marbles.\n",
    "* The robots act __asynchronously__; robot 1 acts once every two timesteps, and robot 2 acts once every three timesteps."
   ]
  },
  {
   "cell_type": "code",
   "execution_count": 1,
   "metadata": {},
   "outputs": [],
   "source": [
    "%%capture\n",
    "# Only run this cell if you need to install the libraries\n",
    "# If running in google colab, this is needed.\n",
    "\n",
    "!pip install cadcad matplotlib pandas numpy"
   ]
  },
  {
   "cell_type": "code",
   "execution_count": 2,
   "metadata": {},
   "outputs": [],
   "source": [
    "# Import dependancies\n",
    "\n",
    "# Data processing and plotting libraries\n",
    "import pandas as pd\n",
    "import numpy as np\n",
    "from random import normalvariate\n",
    "import matplotlib.pyplot as plt\n",
    "\n",
    "# cadCAD specific libraries\n",
    "from cadCAD.configuration.utils import config_sim\n",
    "from cadCAD.configuration import Experiment\n",
    "from cadCAD.engine import ExecutionContext, Executor"
   ]
  },
  {
   "cell_type": "code",
   "execution_count": 3,
   "metadata": {},
   "outputs": [],
   "source": [
    "def p_robot_arm(params, substep, state_history, previous_state):\n",
    "    \n",
    "    # Parameters & variables\n",
    "    box_a = previous_state['box_A']\n",
    "    box_b = previous_state['box_B']\n",
    "    \n",
    "    # Logic\n",
    "    if box_b > box_a:\n",
    "        b_to_a = 1\n",
    "    elif box_b < box_a:\n",
    "        b_to_a = -1\n",
    "    else:\n",
    "        b_to_a = 0\n",
    "    \n",
    "    # Output\n",
    "    return({'add_to_A': b_to_a, 'add_to_B': -b_to_a})"
   ]
  },
  {
   "cell_type": "code",
   "execution_count": 4,
   "metadata": {},
   "outputs": [],
   "source": [
    "robots_periods = [2,3] # Robot 1 acts once every 2 timesteps; Robot 2 acts once every 3 timesteps\n",
    "\n",
    "def get_current_timestep(cur_substep, previous_state):\n",
    "    if cur_substep == 1:\n",
    "        return previous_state['timestep']+1\n",
    "    return previous_state['timestep']\n",
    "\n",
    "def robot_arm_1(params, substep, state_history, previous_state):\n",
    "    _robotId = 1\n",
    "    if get_current_timestep(substep, previous_state)%robots_periods[_robotId-1]==0: # on timesteps that are multiple of 2, Robot 1 acts\n",
    "        return p_robot_arm(params, substep, state_history, previous_state)\n",
    "    else:\n",
    "        return({'add_to_A': 0, 'add_to_B': 0}) # for all other timesteps, Robot 1 doesn't interfere with the system\n",
    "\n",
    "def robot_arm_2(params, substep, state_history, previous_state):\n",
    "    _robotId = 2\n",
    "    if get_current_timestep(substep, previous_state)%robots_periods[_robotId-1]==0: # on timesteps that are multiple of 3, Robot 2 acts\n",
    "        return p_robot_arm(params, substep, state_history, previous_state)\n",
    "    else:\n",
    "        return({'add_to_A': 0, 'add_to_B': 0}) # for all other timesteps, Robot 1 doesn't interfere with the system"
   ]
  },
  {
   "cell_type": "code",
   "execution_count": 5,
   "metadata": {},
   "outputs": [],
   "source": [
    "def s_box_A(params, substep, state_history,  previous_state, policy_input):\n",
    "    # Parameters & variables\n",
    "    box_A_current = previous_state['box_A']\n",
    "    box_A_change = policy_input['add_to_A']\n",
    "   \n",
    "    # Logic\n",
    "    box_A_new = box_A_current + box_A_change\n",
    "    \n",
    "    # Output\n",
    "    return ('box_A', box_A_new)\n",
    "    \n",
    "def s_box_B(params, substep, state_history,  previous_state, policy_input):\n",
    "    # Parameters & variables\n",
    "    box_B_current = previous_state['box_B']\n",
    "    box_B_change = policy_input['add_to_B']\n",
    "\n",
    "    # Logic\n",
    "    box_B_new = box_B_current + box_B_change\n",
    "    \n",
    "    # Output\n",
    "    return ('box_B', box_B_new)"
   ]
  },
  {
   "cell_type": "code",
   "execution_count": 6,
   "metadata": {},
   "outputs": [],
   "source": [
    "partial_state_update_blocks = [\n",
    "    { \n",
    "        'policies': { # The following policy functions will be evaluated and their returns will be passed to the state update functions\n",
    "            'robot_arm_1': robot_arm_1,\n",
    "            'robot_arm_2': robot_arm_2\n",
    "        },\n",
    "        'variables': { # The following state variables will be updated simultaneously\n",
    "            'box_A': s_box_A,\n",
    "            'box_B': s_box_B\n",
    "        }\n",
    "    }\n",
    "]"
   ]
  },
  {
   "cell_type": "code",
   "execution_count": 7,
   "metadata": {},
   "outputs": [],
   "source": [
    "initial_state = {\n",
    "    'box_A': 10, # box_A starts out with 10 marbles in it\n",
    "    'box_B': 0 # box_B starts out empty\n",
    "}"
   ]
  },
  {
   "cell_type": "code",
   "execution_count": 8,
   "metadata": {},
   "outputs": [],
   "source": [
    "MONTE_CARLO_RUNS = 1\n",
    "SIMULATION_TIMESTEPS = 10\n",
    "\n",
    "sim_config = config_sim(\n",
    "    {\n",
    "        'N': MONTE_CARLO_RUNS,\n",
    "        'T': range(SIMULATION_TIMESTEPS),\n",
    "        #'M': {} # This will be explained in later tutorials\n",
    "    }\n",
    ")"
   ]
  },
  {
   "cell_type": "code",
   "execution_count": 9,
   "metadata": {},
   "outputs": [
    {
     "name": "stdout",
     "output_type": "stream",
     "text": [
      "\n",
      "                  ___________    ____\n",
      "  ________ __ ___/ / ____/   |  / __ \\\n",
      " / ___/ __` / __  / /   / /| | / / / /\n",
      "/ /__/ /_/ / /_/ / /___/ ___ |/ /_/ /\n",
      "\\___/\\__,_/\\__,_/\\____/_/  |_/_____/\n",
      "by cadCAD\n",
      "\n",
      "Execution Mode: local_proc\n",
      "Configuration Count: 1\n",
      "Dimensions of the first simulation: (Timesteps, Params, Runs, Vars) = (10, 1, 1, 2)\n",
      "Execution Method: local_simulations\n",
      "SimIDs   : [0]\n",
      "SubsetIDs: [0]\n",
      "Ns       : [0]\n",
      "ExpIDs   : [0]\n",
      "Execution Mode: single_threaded\n",
      "Total execution time: 0.01s\n"
     ]
    }
   ],
   "source": [
    "from cadCAD import configs\n",
    "del configs[:]\n",
    "\n",
    "experiment = Experiment()\n",
    "\n",
    "experiment.append_configs(\n",
    "    sim_configs=sim_config,\n",
    "    initial_state=initial_state,\n",
    "    partial_state_update_blocks=partial_state_update_blocks,\n",
    ")\n",
    "\n",
    "exec_context = ExecutionContext()\n",
    "run = Executor(exec_context=exec_context, configs=configs)\n",
    "\n",
    "(system_events, tensor_field, sessions) = run.execute()"
   ]
  },
  {
   "cell_type": "code",
   "execution_count": 10,
   "metadata": {},
   "outputs": [
    {
     "data": {
      "image/png": "[encoded data removed]",
      "text/plain": [
       "<Figure size 864x576 with 1 Axes>"
      ]
     },
     "metadata": {
      "needs_background": "light"
     },
     "output_type": "display_data"
    }
   ],
   "source": [
    "df = pd.DataFrame(system_events)\n",
    "# Create figure\n",
    "fig = df.plot(x='timestep', y=['box_A','box_B'], marker='o', markersize=12,\n",
    "                markeredgewidth=4, alpha=0.7, markerfacecolor='black',\n",
    "                linewidth=5, figsize=(12,8),  title=\"Marbles in each box as a function of time\", \n",
    "                ylabel='Number of Marbles', grid=True, fillstyle='none',  \n",
    "                xticks=list(df['timestep'].drop_duplicates()),\n",
    "                yticks=list(range(1+(df['box_A']+df['box_B']).max())));"
   ]
  },
  {
   "cell_type": "markdown",
   "metadata": {},
   "source": [
    "# Non-determinism\n",
    "Non-deterministic systems exhibit different behaviors on different runs for the same input. The order of heads and tails in a series of 3 coin tosses, for example, is non deterministic. \n",
    "\n",
    "Our robots and marbles system is currently modelled as a deterministic system. Meaning that every time we run the simulation: none of the robots act on timestep 1; robot 1 acts on timestep 2; robot 2 acts on timestep 3; an so on. \n",
    "\n",
    "If however we were to define that at every timestep each robot would act with a probability P, then we would have a non-deterministic (probabilistic) system. Let's make the following changes to our system.\n",
    "* Robot 1: instead of acting once every two timesteps, there's a 50% chance it will act in any given timestep\n",
    "* Robot 2: instead of acting once every three timesteps, there's a 33.33% chance it will act in any given timestep"
   ]
  },
  {
   "cell_type": "code",
   "execution_count": 12,
   "metadata": {},
   "outputs": [],
   "source": [
    "from random import random as rand\n",
    "\n",
    "# We specify each of the robots logic in a Policy Function\n",
    "robots_probabilities = [0.5,1/3] # Robot 1 acts with a 50% probability; Robot 2, 33.33%\n",
    "\n",
    "def robot_arm_1(params, substep, state_history, previous_state):\n",
    "    _robotId = 1\n",
    "    if rand()<robots_probabilities[_robotId-1]: # draw a random number between 0 and 1; if it's smaller than the robot's parameter, it acts\n",
    "        return p_robot_arm(params, substep, state_history, previous_state)\n",
    "    else:\n",
    "        return({'add_to_A': 0, 'add_to_B': 0}) # for all other timesteps, Robot 1 doesn't interfere with the system\n",
    "\n",
    "def robot_arm_2(params, substep, state_history, previous_state):\n",
    "    _robotId = 2\n",
    "    if rand()<robots_probabilities[_robotId-1]: # draw a random number between 0 and 1; if it's smaller than the robot's parameter, it acts\n",
    "        return p_robot_arm(params, substep, state_history, previous_state)\n",
    "    else:\n",
    "        return({'add_to_A': 0, 'add_to_B': 0}) # for all other timesteps, Robot 1 doesn't interfere with the system"
   ]
  },
  {
   "cell_type": "markdown",
   "metadata": {},
   "source": [
    "In the Partial State Update Blocks, the user specifies if state update functions will be run in series or in parallel and the policy functions that will be evaluated in that block"
   ]
  },
  {
   "cell_type": "code",
   "execution_count": 13,
   "metadata": {},
   "outputs": [],
   "source": [
    "partial_state_update_blocks = [\n",
    "    { \n",
    "        'policies': { # The following policy functions will be evaluated and their returns will be passed to the state update functions\n",
    "            'robot_arm_1': robot_arm_1,\n",
    "            'robot_arm_2': robot_arm_2\n",
    "        },\n",
    "        'variables': { # The following state variables will be updated simultaneously\n",
    "            'box_A': s_box_A,\n",
    "            'box_B': s_box_B\n",
    "        }\n",
    "    }\n",
    "]"
   ]
  },
  {
   "cell_type": "markdown",
   "metadata": {},
   "source": [
    "If we run the simulation with those configurations, the system is unlikely to exhibit the same behavior as it did in its deterministic version"
   ]
  },
  {
   "cell_type": "code",
   "execution_count": null,
   "metadata": {},
   "outputs": [],
   "source": [
    "%%capture\n",
    "del configs[:] # Clear any prior configs\n",
    "# # # # # # # # # # # # # # # # # # # # # # # # # # # # # # # # # # # # # # # # # # # # # # # # \n",
    "# The configurations above are then packaged into a `Configuration` object\n",
    "exp.append_configs(initial_state=genesis_states, #dict containing variable names and initial values\n",
    "                       partial_state_update_blocks=partial_state_update_blocks, #dict containing state update functions\n",
    "                       sim_configs=c #preprocessed dictionaries containing simulation parameters\n",
    "                      )\n",
    "\n",
    "raw_result, tensor, sessions = executor.execute() # The `execute()` method returns a tuple; its first elements contains the raw results"
   ]
  },
  {
   "cell_type": "code",
   "execution_count": null,
   "metadata": {},
   "outputs": [],
   "source": [
    "%matplotlib inline\n",
    "import pandas as pd\n",
    "simulation_result = pd.DataFrame(raw_result)\n",
    "\n",
    "simulation_result.plot('timestep', ['box_A', 'box_B'], grid=True, \n",
    "        xticks=list(simulation_result['timestep'].drop_duplicates()), \n",
    "        colormap = 'RdYlGn',\n",
    "        yticks=list(range(1+(simulation_result['box_A']+simulation_result['box_B']).max())));"
   ]
  },
  {
   "cell_type": "markdown",
   "metadata": {},
   "source": [
    "And if we run it again, it returns yet another result"
   ]
  },
  {
   "cell_type": "code",
   "execution_count": null,
   "metadata": {},
   "outputs": [],
   "source": [
    "%%capture\n",
    "del configs[:] # Clear any prior configs\n",
    "# # # # # # # # # # # # # # # # # # # # # # # # # # # # # # # # # # # # # # # # # # # # # # # # \n",
    "# The configurations above are then packaged into a `Configuration` object\n",
    "exp.append_configs(initial_state=genesis_states, #dict containing variable names and initial values\n",
    "                       partial_state_update_blocks=partial_state_update_blocks, #dict containing state update functions\n",
    "                       sim_configs=c #preprocessed dictionaries containing simulation parameters\n",
    "                      )\n",
    "\n",
    "raw_result, tensor, sessions = executor.execute() # The `execute()` method returns a tuple; its first elements contains the raw results\n",
    "\n",
    "simulation_result = pd.DataFrame(raw_result)"
   ]
  },
  {
   "cell_type": "code",
   "execution_count": null,
   "metadata": {},
   "outputs": [],
   "source": [
    "simulation_result.plot('timestep', ['box_A', 'box_B'], grid=True, \n",
    "        xticks=list(simulation_result['timestep'].drop_duplicates()), \n",
    "        colormap = 'RdYlGn',\n",
    "        yticks=list(range(1+(simulation_result['box_A']+simulation_result['box_B']).max())));"
   ]
  },
  {
   "cell_type": "markdown",
   "metadata": {},
   "source": [
    "In order to take advantage of cadCAD's Monte Carlo simulation features, we should modify the configuration file so as to define the number of times we want the same simulation to be run. This is done in the `N` key of the `sim_config_dict` dict."
   ]
  },
  {
   "cell_type": "code",
   "execution_count": null,
   "metadata": {},
   "outputs": [],
   "source": [
    "%%capture\n",
    "# # # # # # # # # # # # # # # # # # # # # # # # # # # # # # # # # # # # # # # # # # # # # # # # \n",
    "# Settings of general simulation parameters, unrelated to the system itself\n",
    "# `T` is a range with the number of discrete units of time the simulation will run for;\n",
    "# `N` is the number of times the simulation will be run (Monte Carlo runs)\n",
    "# In this example, we'll run the simulation once (N=1) and its duration will be of 10 timesteps\n",
    "# We'll cover the `M` key in a future article. For now, let's omit it\n",
    "mc = 50\n",
    "sim_config_dict = {\n",
    "    'T': range(10),\n",
    "    'N': mc, # We'll run the same simulation 50 times; the random events in each simulation are independent\n",
    "    #'M': {}\n",
    "}\n",
    "# # # # # # # # # # # # # # # # # # # # # # # # # # # # # # # # # # # # # # # # # # # # # # # # \n",
    "\n",
    "del configs[:] # Clear any prior configs\n",
    "\n",
    "c = config_sim(sim_config_dict)\n",
    "# # # # # # # # # # # # # # # # # # # # # # # # # # # # # # # # # # # # # # # # # # # # # # # # \n",
    "# The configurations above are then packaged into a `Configuration` object\n",
    "exp.append_configs(initial_state=genesis_states, #dict containing variable names and initial values\n",
    "                       partial_state_update_blocks=partial_state_update_blocks, #dict containing state update functions\n",
    "                       sim_configs=c #preprocessed dictionaries containing simulation parameters\n",
    "                      )\n",
    "\n",
    "raw_result, tensor, sessions = executor.execute() # The `execute()` method returns a tuple; its first elements contains the raw results"
   ]
  },
  {
   "cell_type": "code",
   "execution_count": null,
   "metadata": {},
   "outputs": [],
   "source": [
    "simulation_result = pd.DataFrame(raw_result)\n",
    "df = simulation_result\n",
    "df.set_index(['simulation', 'run', 'timestep', 'substep'])\n",
    "\n",
    "from IPython.display import display\n",
    "tmp_rows = pd.options.display.max_rows\n",
    "pd.options.display.max_rows = 10\n",
    "display(df.set_index(['simulation', 'run', 'timestep', 'substep']))\n",
    "pd.options.display.max_rows = tmp_rows"
   ]
  },
  {
   "cell_type": "markdown",
   "metadata": {},
   "source": [
    "Plotting two of those runs allows us to see the different behaviors over time."
   ]
  },
  {
   "cell_type": "code",
   "execution_count": null,
   "metadata": {},
   "outputs": [],
   "source": [
    "df[df['run']==1].plot('timestep', ['box_A', 'box_B'], grid=True,\n",
    "                          xticks=list(df['timestep'].drop_duplicates()), \n",
    "                          yticks=list(range(11)),\n",
    "                          colormap = 'RdYlGn');\n",
    "\n",
    "df[df['run']==9].plot('timestep', ['box_A', 'box_B'], grid=True,\n",
    "                            xticks=list(df['timestep'].drop_duplicates()), \n",
    "                            yticks=list(range(11)),\n",
    "                            colormap = 'RdYlGn');"
   ]
  },
  {
   "cell_type": "markdown",
   "metadata": {},
   "source": [
    "If we plot all those runs onto a single chart, we can see every possible trajectory for the number of marbles in each box."
   ]
  },
  {
   "cell_type": "code",
   "execution_count": null,
   "metadata": {},
   "outputs": [],
   "source": [
    "ax = None\n",
    "for i in range(0,mc):\n",
    "    ax = df[df['run']==i+1].plot('timestep', ['box_A', 'box_B'],\n",
    "                                     grid=True,\n",
    "                                     xticks=list(df['timestep'].drop_duplicates()), \n",
    "                                     yticks=list(range(1+max(df['box_A'].max(),df['box_B'].max()))),\n",
    "                                     legend = (ax == None),\n",
    "                                     colormap = 'RdYlGn',\n",
    "                                     ax = ax\n",
    "                                  )"
   ]
  },
  {
   "cell_type": "markdown",
   "metadata": {},
   "source": [
    "For some analyses, it might make sense to look at the data in aggregate. Take the median for example:"
   ]
  },
  {
   "cell_type": "code",
   "execution_count": null,
   "metadata": {},
   "outputs": [],
   "source": [
    "dfmc_median = df.groupby(['timestep', 'substep']).median().reset_index()\n",
    "dfmc_median.plot('timestep', ['box_A', 'box_B'], \n",
    "                 grid=True,\n",
    "                 xticks=list(dfmc_median['timestep'].drop_duplicates()), \n",
    "                 yticks=list(range(int(1+max(dfmc_median['box_A'].max(),dfmc_median['box_B'].max())))),\n",
    "                 colormap = 'RdYlGn'\n",
    "                )"
   ]
  },
  {
   "cell_type": "markdown",
   "metadata": {},
   "source": [
    "Or look at edge cases"
   ]
  },
  {
   "cell_type": "code",
   "execution_count": null,
   "metadata": {},
   "outputs": [],
   "source": [
    "max_final_A = df[df['timestep']==df['timestep'].max()]['box_A'].max()\n",
    "# max_final_A\n",
    "slow_runs = df[(df['timestep']==df['timestep'].max()) & \n",
    "         (df['box_A']==max_final_A)]['run']\n",
    "slow_runs = list(slow_runs)\n",
    "slow_runs\n",
    "\n",
    "ax = None\n",
    "for i in slow_runs:\n",
    "    ax = df[df['run']==i].plot('timestep', ['box_A', 'box_B'],\n",
    "                                     grid=True,\n",
    "                                     xticks=list(df['timestep'].drop_duplicates()), \n",
    "                                     yticks=list(range(1+max(df['box_A'].max(),df['box_B'].max()))),\n",
    "                                     legend = (ax == None),\n",
    "                                     colormap = 'RdYlGn',\n",
    "                                     ax = ax\n",
    "                                  )"
   ]
  },
  {
   "cell_type": "markdown",
   "metadata": {},
   "source": [
    "We invite the reader to fork this code and come up with answers for their other questions that might be interesting to look at. For example:\n",
    "* How often does box B momentarily contain more marbles than box A?\n",
    "* What's the frequency distribution of the time to reach equilibrium?\n",
    "* What's the probability distribution of the waiting times of each one of the robots?"
   ]
  }
 ],
 "metadata": {
  "kernelspec": {
   "display_name": "Python 3",
   "language": "python",
   "name": "python3"
  },
  "language_info": {
   "codemirror_mode": {
    "name": "ipython",
    "version": 3
   },
   "file_extension": ".py",
   "mimetype": "text/x-python",
   "name": "python",
   "nbconvert_exporter": "python",
   "pygments_lexer": "ipython3",
   "version": "3.9.1"
  }
 },
 "nbformat": 4,
 "nbformat_minor": 4
}
