{
 "cells": [
  {
   "cell_type": "markdown",
   "metadata": {},
   "source": [
    "[![Open In Colab](https://colab.research.google.com/assets/colab-badge.svg)](https://colab.research.google.com/github/cadCAD-org/demos/blob/master/tutorials/robots_and_marbles/robot-marbles-part-2/robot-marbles-part-2.ipynb)\n",
    "\n",
    "# cadCAD Tutorials: The Robot and the Marbles, part 2\n",
    "In [Part 1](../robot-marbles-part-1/robot-marbles-part-1.ipynb) we introduced the 'language' in which a system must be described in order for it to be interpretable by cadCAD and some of the basic concepts of the library:\n",
    "* State Variables\n",
    "* Timestep\n",
    "* State Update Functions\n",
    "* Partial State Update Blocks\n",
    "* Simulation Configuration Parameters\n",
    "\n",
    "This article will introduce the concept of __Policies__. But first let's copy the base configuration from Part 1. As a reminder, here's the description of the simple system we are using for illustration purposes.\n",
    "\n",
    "__The robot and the marbles__  \n",
    "* Picture a box (`box_A`) with ten marbles in it; an empty box (`box_B`) next to the first one; and a robot arm capable of taking a marble from any one of the boxes and dropping it into the other one. \n",
    "* The robot is programmed to take one marble at a time from the box containing the largest number of marbles and drop it in the other box. It repeats that process until the boxes contain an equal number of marbles.  "
   ]
  },
  {
   "cell_type": "code",
   "execution_count": 1,
   "metadata": {},
   "outputs": [],
   "source": [
    "%%capture\n",
    "# Only run this cell if you need to install the libraries\n",
    "# If running in google colab, this is needed.\n",
    "\n",
    "!pip install cadcad matplotlib pandas numpy"
   ]
  },
  {
   "cell_type": "code",
   "execution_count": 2,
   "metadata": {},
   "outputs": [],
   "source": [
    "# Import dependancies\n",
    "\n",
    "# Data processing and plotting libraries\n",
    "import pandas as pd\n",
    "import numpy as np\n",
    "from random import normalvariate\n",
    "import matplotlib.pyplot as plt\n",
    "\n",
    "# cadCAD specific libraries\n",
    "from cadCAD.configuration.utils import config_sim\n",
    "from cadCAD.configuration import Experiment\n",
    "from cadCAD.engine import ExecutionContext, Executor"
   ]
  },
  {
   "cell_type": "code",
   "execution_count": 3,
   "metadata": {},
   "outputs": [],
   "source": [
    "initial_state = {\n",
    "    'box_A': 10, # box_A starts out with 10 marbles in it\n",
    "    'box_B': 0 # box_B starts out empty\n",
    "}"
   ]
  },
  {
   "cell_type": "code",
   "execution_count": 4,
   "metadata": {},
   "outputs": [],
   "source": [
    "def s_box_A(params, substep, state_history,  previous_state, policy_input):\n",
    "    # Logic\n",
    "    add_to_A = 0\n",
    "    if (previous_state['box_A'] > previous_state['box_B']):\n",
    "        add_to_A = -1\n",
    "    elif (previous_state['box_A'] < previous_state['box_B']):\n",
    "        add_to_A = 1\n",
    "    \n",
    "    new_box_A = previous_state['box_A'] + add_to_A\n",
    "    \n",
    "    # Output\n",
    "    return ('box_A', new_box_A)\n",
    "\n",
    "def s_box_B(params, substep, state_history, previous_state, policy_input):\n",
    "    # Logic\n",
    "    add_to_B = 0\n",
    "    if (previous_state['box_B'] > previous_state['box_A']):\n",
    "        add_to_B = -1\n",
    "    elif (previous_state['box_B'] < previous_state['box_A']):\n",
    "        add_to_B = 1\n",
    "        \n",
    "    new_box_B = previous_state['box_B'] + add_to_B\n",
    "    \n",
    "    # Output\n",
    "    return ('box_B', new_box_B)"
   ]
  },
  {
   "cell_type": "code",
   "execution_count": 5,
   "metadata": {},
   "outputs": [],
   "source": [
    "partial_state_update_blocks = [\n",
    "    { \n",
    "        'label': 'Marble Update',\n",
    "        'policies': { # We'll ignore policies for now\n",
    "        },\n",
    "        'variables': { # The following state variables will be updated simultaneously\n",
    "            'box_A': s_box_A,\n",
    "            'box_B': s_box_B\n",
    "        }\n",
    "    }\n",
    "]"
   ]
  },
  {
   "cell_type": "code",
   "execution_count": 6,
   "metadata": {},
   "outputs": [],
   "source": [
    "MONTE_CARLO_RUNS = 1\n",
    "SIMULATION_TIMESTEPS = 10\n",
    "\n",
    "sim_config = config_sim(\n",
    "    {\n",
    "        'N': MONTE_CARLO_RUNS,\n",
    "        'T': range(SIMULATION_TIMESTEPS),\n",
    "        #'M': {} # This will be explained in later tutorials\n",
    "    }\n",
    ")"
   ]
  },
  {
   "cell_type": "code",
   "execution_count": 7,
   "metadata": {},
   "outputs": [],
   "source": [
    "from cadCAD import configs\n",
    "del configs[:]"
   ]
  },
  {
   "cell_type": "code",
   "execution_count": 8,
   "metadata": {},
   "outputs": [],
   "source": [
    "experiment = Experiment()\n",
    "\n",
    "experiment.append_configs(\n",
    "    sim_configs=sim_config,\n",
    "    initial_state=initial_state,\n",
    "    partial_state_update_blocks=partial_state_update_blocks,\n",
    ")"
   ]
  },
  {
   "cell_type": "code",
   "execution_count": 9,
   "metadata": {},
   "outputs": [
    {
     "name": "stdout",
     "output_type": "stream",
     "text": [
      "\n",
      "                  ___________    ____\n",
      "  ________ __ ___/ / ____/   |  / __ \\\n",
      " / ___/ __` / __  / /   / /| | / / / /\n",
      "/ /__/ /_/ / /_/ / /___/ ___ |/ /_/ /\n",
      "\\___/\\__,_/\\__,_/\\____/_/  |_/_____/\n",
      "by cadCAD\n",
      "\n",
      "Execution Mode: local_proc\n",
      "Configuration Count: 1\n",
      "Dimensions of the first simulation: (Timesteps, Params, Runs, Vars) = (10, 1, 1, 2)\n",
      "Execution Method: local_simulations\n",
      "SimIDs   : [0]\n",
      "SubsetIDs: [0]\n",
      "Ns       : [0]\n",
      "ExpIDs   : [0]\n",
      "Execution Mode: single_threaded\n",
      "Total execution time: 0.01s\n"
     ]
    }
   ],
   "source": [
    "exec_context = ExecutionContext()\n",
    "run = Executor(exec_context=exec_context, configs=configs)\n",
    "\n",
    "(system_events, tensor_field, sessions) = run.execute()"
   ]
  },
  {
   "cell_type": "code",
   "execution_count": 10,
   "metadata": {},
   "outputs": [
    {
     "data": {
      "text/html": [
       "<div>\n",
       "<style scoped>\n",
       "    .dataframe tbody tr th:only-of-type {\n",
       "        vertical-align: middle;\n",
       "    }\n",
       "\n",
       "    .dataframe tbody tr th {\n",
       "        vertical-align: top;\n",
       "    }\n",
       "\n",
       "    .dataframe thead th {\n",
       "        text-align: right;\n",
       "    }\n",
       "</style>\n",
       "<table border=\"1\" class=\"dataframe\">\n",
       "  <thead>\n",
       "    <tr style=\"text-align: right;\">\n",
       "      <th></th>\n",
       "      <th></th>\n",
       "      <th></th>\n",
       "      <th></th>\n",
       "      <th>box_A</th>\n",
       "      <th>box_B</th>\n",
       "      <th>subset</th>\n",
       "    </tr>\n",
       "    <tr>\n",
       "      <th>simulation</th>\n",
       "      <th>run</th>\n",
       "      <th>timestep</th>\n",
       "      <th>substep</th>\n",
       "      <th></th>\n",
       "      <th></th>\n",
       "      <th></th>\n",
       "    </tr>\n",
       "  </thead>\n",
       "  <tbody>\n",
       "    <tr>\n",
       "      <th rowspan=\"11\" valign=\"top\">0</th>\n",
       "      <th rowspan=\"11\" valign=\"top\">1</th>\n",
       "      <th>0</th>\n",
       "      <th>0</th>\n",
       "      <td>10</td>\n",
       "      <td>0</td>\n",
       "      <td>0</td>\n",
       "    </tr>\n",
       "    <tr>\n",
       "      <th>1</th>\n",
       "      <th>1</th>\n",
       "      <td>9</td>\n",
       "      <td>1</td>\n",
       "      <td>0</td>\n",
       "    </tr>\n",
       "    <tr>\n",
       "      <th>2</th>\n",
       "      <th>1</th>\n",
       "      <td>8</td>\n",
       "      <td>2</td>\n",
       "      <td>0</td>\n",
       "    </tr>\n",
       "    <tr>\n",
       "      <th>3</th>\n",
       "      <th>1</th>\n",
       "      <td>7</td>\n",
       "      <td>3</td>\n",
       "      <td>0</td>\n",
       "    </tr>\n",
       "    <tr>\n",
       "      <th>4</th>\n",
       "      <th>1</th>\n",
       "      <td>6</td>\n",
       "      <td>4</td>\n",
       "      <td>0</td>\n",
       "    </tr>\n",
       "    <tr>\n",
       "      <th>5</th>\n",
       "      <th>1</th>\n",
       "      <td>5</td>\n",
       "      <td>5</td>\n",
       "      <td>0</td>\n",
       "    </tr>\n",
       "    <tr>\n",
       "      <th>6</th>\n",
       "      <th>1</th>\n",
       "      <td>5</td>\n",
       "      <td>5</td>\n",
       "      <td>0</td>\n",
       "    </tr>\n",
       "    <tr>\n",
       "      <th>7</th>\n",
       "      <th>1</th>\n",
       "      <td>5</td>\n",
       "      <td>5</td>\n",
       "      <td>0</td>\n",
       "    </tr>\n",
       "    <tr>\n",
       "      <th>8</th>\n",
       "      <th>1</th>\n",
       "      <td>5</td>\n",
       "      <td>5</td>\n",
       "      <td>0</td>\n",
       "    </tr>\n",
       "    <tr>\n",
       "      <th>9</th>\n",
       "      <th>1</th>\n",
       "      <td>5</td>\n",
       "      <td>5</td>\n",
       "      <td>0</td>\n",
       "    </tr>\n",
       "    <tr>\n",
       "      <th>10</th>\n",
       "      <th>1</th>\n",
       "      <td>5</td>\n",
       "      <td>5</td>\n",
       "      <td>0</td>\n",
       "    </tr>\n",
       "  </tbody>\n",
       "</table>\n",
       "</div>"
      ],
      "text/plain": [
       "                                 box_A  box_B  subset\n",
       "simulation run timestep substep                      \n",
       "0          1   0        0           10      0       0\n",
       "               1        1            9      1       0\n",
       "               2        1            8      2       0\n",
       "               3        1            7      3       0\n",
       "               4        1            6      4       0\n",
       "               5        1            5      5       0\n",
       "               6        1            5      5       0\n",
       "               7        1            5      5       0\n",
       "               8        1            5      5       0\n",
       "               9        1            5      5       0\n",
       "               10       1            5      5       0"
      ]
     },
     "execution_count": 10,
     "metadata": {},
     "output_type": "execute_result"
    }
   ],
   "source": [
    "df = pd.DataFrame(system_events)\n",
    "df.set_index(['simulation', 'run', 'timestep', 'substep'])"
   ]
  },
  {
   "cell_type": "code",
   "execution_count": 11,
   "metadata": {},
   "outputs": [
    {
     "data": {
      "image/png": "[encoded data removed]",
      "text/plain": [
       "<Figure size 864x576 with 1 Axes>"
      ]
     },
     "metadata": {
      "needs_background": "light"
     },
     "output_type": "display_data"
    }
   ],
   "source": [
    "# Create figure\n",
    "\n",
    "fig = df.plot(x='timestep', y=['box_A','box_B'], marker='o', markersize=12,\n",
    "                markeredgewidth=4, alpha=0.7, markerfacecolor='black',\n",
    "                linewidth=5, figsize=(12,8),  title=\"Marbles in each box as a function of time\", \n",
    "                ylabel='Number of Marbles', grid=True, fillstyle='none',  \n",
    "                xticks=list(df['timestep'].drop_duplicates()),\n",
    "                yticks=list(range(1+(df['box_A']+df['box_B']).max()))                );"
   ]
  },
  {
   "cell_type": "markdown",
   "metadata": {},
   "source": [
    "# Policies\n",
    "In part 1, we ignored the `policy_input` argument of state update functions. That argument is a signal passed to the state update function by another set of functions: Policy Functions.\n",
    "\n",
    "Policy Functions are most commonly used as representations of the behavior of agents that interact with the components of the system we're simulating in cadCAD. But more generally, they describe the logic of some component or mechanism of the system. It is possible to encode the functionality of a policy function in the state update functions themselves (as we did in part 1, where we had the robot's algorithm reside in the `s_box_A` and `s_box_B` functions), but as systems grow more complex this approach makes the code harder to read and maintain, and in some cases more inefficient because of unnecessary repetition of computational steps.\n",
    "\n",
    "The general structure of a policy function is:\n",
    "```python\n",
    "def p_function(params, substep, state_history, previous_state):\n",
    "    ...\n",
    "    return {'value1': value1, 'value2': value2, ...}\n",
    "```\n",
    "Just like State Update Functions, policies can read the current state of the system from argument `previous_state`, a Python `dict` where the `dict_keys` are the __names of the variables__ and the `dict_values` are their __current values__. The Policy Function must return a dictionary, which will be passed as an argument (`policy_input`) to the state update functions.\n",
    "\n",
    "![Policy](policy.png \"Policy\")\n",
    "\n",
    "Let's update our simulation so that the robot arm's logic is encoded in a Policy instead of in the State Update Functions."
   ]
  },
  {
   "cell_type": "code",
   "execution_count": 18,
   "metadata": {},
   "outputs": [],
   "source": [
    "def p_robot_arm(params, substep, state_history, previous_state):\n",
    "    \n",
    "    # Parameters & variables\n",
    "    box_a = previous_state['box_A']\n",
    "    box_b = previous_state['box_B']\n",
    "    \n",
    "    # Logic\n",
    "    if box_a > box_b:\n",
    "        b_to_a = -1\n",
    "    elif box_a < box_b:\n",
    "        b_to_a = 1\n",
    "    else:\n",
    "        b_to_a = 0\n",
    "    \n",
    "    # Output\n",
    "    return({'add_to_A': b_to_a, 'add_to_B': -b_to_a})"
   ]
  },
  {
   "cell_type": "markdown",
   "metadata": {},
   "source": [
    "We make the state update functions less \"intelligent\", ie. they simply add the respective number of marbles specified in `policy_input` (which, per the policy function definition, may be negative)"
   ]
  },
  {
   "cell_type": "code",
   "execution_count": 38,
   "metadata": {},
   "outputs": [],
   "source": [
    "def s_box_A(params, substep, state_history,  previous_state, policy_input):\n",
    "    # Parameters & variables\n",
    "    box_A_current = previous_state['box_A']\n",
    "    box_A_change = policy_input['add_to_A']\n",
    "   \n",
    "    # Logic\n",
    "    box_A_new = box_A_current + box_A_change\n",
    "    \n",
    "    # Output\n",
    "    return ('box_A', box_A_new)\n",
    "    \n",
    "def s_box_B(params, substep, state_history,  previous_state, policy_input):\n",
    "    # Parameters & variables\n",
    "    box_B_current = previous_state['box_B']\n",
    "    box_B_change = policy_input['add_to_B']\n",
    "\n",
    "    # Logic\n",
    "    box_B_new = box_B_current + box_B_change\n",
    "    \n",
    "    # Output\n",
    "    return ('box_B', box_B_new)"
   ]
  },
  {
   "cell_type": "markdown",
   "metadata": {},
   "source": [
    "In the __Partial State Update Blocks__, the user specifies if state update functions will be run in series or in parallel and the policy functions that will be evaluated in that block. In this case, the states are updated in parallel."
   ]
  },
  {
   "cell_type": "code",
   "execution_count": 39,
   "metadata": {},
   "outputs": [],
   "source": [
    "partial_state_update_blocks = [\n",
    "    {\n",
    "        'policies': {\n",
    "            'robot_arm': p_robot_arm\n",
    "        },\n",
    "        'variables': {\n",
    "            'box_A': s_box_A,\n",
    "            'box_B': s_box_B\n",
    "        }\n",
    "    }\n",
    "]"
   ]
  },
  {
   "cell_type": "markdown",
   "metadata": {},
   "source": [
    "The configurations above are then packaged into a `Configuration` object."
   ]
  },
  {
   "cell_type": "code",
   "execution_count": 40,
   "metadata": {},
   "outputs": [],
   "source": [
    "del configs[:]  # Clear any prior configs\n",
    "\n",
    "experiment = Experiment()\n",
    "\n",
    "experiment.append_configs(\n",
    "    sim_configs=sim_config,\n",
    "    initial_state=initial_state,\n",
    "    partial_state_update_blocks=partial_state_update_blocks,\n",
    ")"
   ]
  },
  {
   "cell_type": "code",
   "execution_count": 41,
   "metadata": {},
   "outputs": [
    {
     "name": "stdout",
     "output_type": "stream",
     "text": [
      "\n",
      "                  ___________    ____\n",
      "  ________ __ ___/ / ____/   |  / __ \\\n",
      " / ___/ __` / __  / /   / /| | / / / /\n",
      "/ /__/ /_/ / /_/ / /___/ ___ |/ /_/ /\n",
      "\\___/\\__,_/\\__,_/\\____/_/  |_/_____/\n",
      "by cadCAD\n",
      "\n",
      "Execution Mode: local_proc\n",
      "Configuration Count: 1\n",
      "Dimensions of the first simulation: (Timesteps, Params, Runs, Vars) = (10, 1, 1, 2)\n",
      "Execution Method: local_simulations\n",
      "SimIDs   : [0]\n",
      "SubsetIDs: [0]\n",
      "Ns       : [0]\n",
      "ExpIDs   : [0]\n",
      "Execution Mode: single_threaded\n",
      "Total execution time: 0.02s\n"
     ]
    }
   ],
   "source": [
    "exec_context = ExecutionContext()\n",
    "run = Executor(exec_context=exec_context, configs=configs)\n",
    "\n",
    "(system_events, tensor_field, sessions) = run.execute()"
   ]
  },
  {
   "cell_type": "code",
   "execution_count": null,
   "metadata": {},
   "outputs": [],
   "source": [
    "\n",
    "\n"
   ]
  },
  {
   "cell_type": "code",
   "execution_count": null,
   "metadata": {},
   "outputs": [],
   "source": [
    "del configs[:] # Clear any prior configs\n",
    "\n",
    "exp.append_configs(initial_state=genesis_states, #dict containing variable names and initial values\n",
    "                       partial_state_update_blocks=partial_state_update_blocks, #dict containing state update functions\n",
    "                       sim_configs=c #preprocessed dictionaries containing simulation parameters\n",
    "                      )\n",
    "\n",
    "executor = Executor(local_mode_ctx, configs) # Pass the configuration object inside an array\n",
    "raw_result, tensor, sessions = executor.execute() # The `execute()` method returns a tuple; its first elements contains the raw results"
   ]
  },
  {
   "cell_type": "code",
   "execution_count": null,
   "metadata": {
    "tags": []
   },
   "outputs": [],
   "source": [
    "%matplotlib inline\n",
    "simulation_result = pd.DataFrame(raw_result)\n",
    "\n",
    "simulation_result.plot('timestep', ['box_A', 'box_B'], grid=True, \n",
    "        xticks=list(simulation_result['timestep'].drop_duplicates()), \n",
    "        colormap = 'RdYlGn',\n",
    "        yticks=list(range(1+(simulation_result['box_A']+simulation_result['box_B']).max())));"
   ]
  },
  {
   "cell_type": "markdown",
   "metadata": {},
   "source": [
    "As expected, the results are the same as when the robot arm logic was encoded within the state update functions.  \n",
    "\n",
    "Several policies may be evaluated within a Partial State Update Block. When that's the case, cadCAD's engine aggregates the outputs of the policies and passes them as a single signal to the state update functions. \n",
    "![Policies](policies.png \"Policies\")\n",
    "\n",
    "Aggregation of policies is defined in cadCAD as __key-wise sum (+) of the elements of the outputted `dict`s__.\n",
    "```python\n",
    ">policy_1_output = {'int': 1, 'str': 'abc', 'list': [1, 2], '1-only': 'Specific to policy 1'}\n",
    ">policy_2_output = {'int': 2, 'str': 'def', 'list': [3, 4], '2-only': 'Specific to policy 2'}\n",
    ">print(aggregate([policy_1_output, policy_2_output]))\n",
    "```\n",
    "```\n",
    "{'int': 3, 'str': 'abcdef', 'list': [1, 2, 3, 4], '1-only': 'Specific to policy 1', '2-only': 'Specific to policy 2'}\n",
    "```\n",
    "\n",
    "To illustrate, let's add to another system another robot arm identical to the first one, that acts in tandem with it. All it takes is to add a policy to the `dict` that describes the partial state update block."
   ]
  },
  {
   "cell_type": "code",
   "execution_count": null,
   "metadata": {},
   "outputs": [],
   "source": [
    "%%capture\n",
    "# # # # # # # # # # # # # # # # # # # # # # # # # # # # # # # # # # # # # # # # # # # # # # # # \n",
    "# In the Partial State Update Blocks, \n",
    "# the user specifies if state update functions will be run in series or in parallel\n",
    "# and the policy functions that will be evaluated in that block\n",
    "partial_state_update_blocks = [\n",
    "    { \n",
    "        'policies': { # The following policy functions will be evaluated and their returns will be passed to the state update functions\n",
    "            'robot_arm_1': robot_arm,\n",
    "            'robot_arm_2': robot_arm\n",
    "        },\n",
    "        'variables': { # The following state variables will be updated simultaneously\n",
    "            'box_A': increment_A,\n",
    "            'box_B': increment_B\n",
    "        }\n",
    "    }\n",
    "]\n",
    "\n",
    "# # # # # # # # # # # # # # # # # # # # # # # # # # # # # # # # # # # # # # # # # # # # # # # # \n",
    "\n",
    "del configs[:] # Clear any prior configs\n",
    "# # # # # # # # # # # # # # # # # # # # # # # # # # # # # # # # # # # # # # # # # # # # # # # # \n",
    "# The configurations above are then packaged into a `Configuration` object\n",
    "exp.append_configs(initial_state=genesis_states, #dict containing variable names and initial values\n",
    "                       partial_state_update_blocks=partial_state_update_blocks, #dict containing state update functions\n",
    "                       sim_configs=c #preprocessed dictionaries containing simulation parameters\n",
    "                      )\n",
    "\n",
    "executor = Executor(local_mode_ctx, configs) # Pass the configuration object inside an array\n",
    "raw_result, tensor, sessions = executor.execute() # The `execute()` method returns a tuple; its first elements contains the raw results"
   ]
  },
  {
   "cell_type": "code",
   "execution_count": null,
   "metadata": {},
   "outputs": [],
   "source": [
    "%matplotlib inline\n",
    "simulation_result = pd.DataFrame(raw_result)\n",
    "\n",
    "simulation_result.plot('timestep', ['box_A', 'box_B'], grid=True, \n",
    "        xticks=list(simulation_result['timestep'].drop_duplicates()), \n",
    "        colormap = 'RdYlGn',\n",
    "        yticks=list(range(1+(simulation_result['box_A']+simulation_result['box_B']).max())));"
   ]
  },
  {
   "cell_type": "markdown",
   "metadata": {},
   "source": [
    "Because we have made it so that both robots read and update the state of the system at the same time, the equilibrium we had before (with 5 marbles in each box) is never reached. Instead, the system oscillates around that point.\n",
    "\n",
    "---\n",
    "\n",
    "_About BlockScience_  \n",
    "[BlockScience](http://bit.ly/github_articles_M_02) is a research and engineering firm specialized in complex adaptive systems and applying practical methodologies from engineering design, development and testing to projects in emerging technologies such as blockchain. Follow us on [Medium](http://bit.ly/bsci-medium) or [Twitter](http://bit.ly/bsci-twitter) to stay in touch."
   ]
  }
 ],
 "metadata": {
  "kernelspec": {
   "display_name": "Python 3",
   "language": "python",
   "name": "python3"
  },
  "language_info": {
   "codemirror_mode": {
    "name": "ipython",
    "version": 3
   },
   "file_extension": ".py",
   "mimetype": "text/x-python",
   "name": "python",
   "nbconvert_exporter": "python",
   "pygments_lexer": "ipython3",
   "version": "3.9.1"
  }
 },
 "nbformat": 4,
 "nbformat_minor": 4
}
